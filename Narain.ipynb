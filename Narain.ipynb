{
 "cells": [
  {
   "cell_type": "code",
   "execution_count": 126,
   "metadata": {
    "collapsed": false,
    "deletable": true,
    "editable": true
   },
   "outputs": [],
   "source": [
    "import os\n",
    "import numpy as np\n",
    "import pandas as pd\n",
    "import math as math\n",
    "import time\n",
    "from pandas import DataFrame, Series\n",
    "import datetime\n",
    "from matplotlib import pyplot as plt\n",
    "import matplotlib.path as mplPath\n",
    "%matplotlib inline"
   ]
  },
  {
   "cell_type": "code",
   "execution_count": 127,
   "metadata": {
    "collapsed": false,
    "deletable": true,
    "editable": true,
    "scrolled": true
   },
   "outputs": [
    {
     "name": "stderr",
     "output_type": "stream",
     "text": [
      "\n",
      "KeyboardInterrupt\n",
      "\n"
     ]
    }
   ],
   "source": [
    "# Read in Data\n",
    "geographic = pd.read_csv(\"geographic.csv\")\n",
    "\n",
    "uber_trips_2014 = pd.read_csv(\"uber_trips_2014.csv\") \n",
    "\n",
    "green_trips = pd.read_csv(\"green_trips.csv\")\n",
    "\n",
    "yellow_trips_2014Q2 = pd.read_csv(\"yellow_trips_2014Q2.csv\")\n",
    "yellow_trips_2014Q3 = pd.read_csv(\"yellow_trips_2014Q3.csv\")\n",
    "yellow_trips_2015Q1 = pd.read_csv(\"yellow_trips_2015Q1.csv\")\n",
    "yellow_trips_2015Q2 = pd.read_csv(\"yellow_trips_2015Q2.csv\")"
   ]
  },
  {
   "cell_type": "code",
   "execution_count": null,
   "metadata": {
    "collapsed": false,
    "deletable": true,
    "editable": true
   },
   "outputs": [],
   "source": [
    "# Compute NTA Paths\n",
    "NTA_names = geographic.loc[[1]]\n",
    "NTA_paths = []\n",
    "for x in NTA_names:\n",
    "    geo_x_filtered = filter(lambda k: not math.isnan(k), geographic[x])\n",
    "    num_vertices = min(2000, len(geo_x_filtered))\n",
    "    polygon = map(lambda i: [geo_x_filtered[2*i], geo_x_filtered[2*i+1]], xrange(0, num_vertices/2))\n",
    "    NTA_paths.append((x, mplPath.Path(np.array(polygon))))"
   ]
  },
  {
   "cell_type": "code",
   "execution_count": null,
   "metadata": {
    "collapsed": true,
    "deletable": true,
    "editable": true
   },
   "outputs": [],
   "source": []
  },
  {
   "cell_type": "code",
   "execution_count": null,
   "metadata": {
    "collapsed": false,
    "deletable": true,
    "editable": true
   },
   "outputs": [],
   "source": [
    "# Add a NTA column to data\n",
    "sample = uber_trips_2014.sample(n=50000)\n",
    "sLength = len(sample['pickup_datetime'])\n",
    "sample['NTA'] = Series(np.random.randn(sLength))\n",
    "\n",
    "for (district, path) in NTA_paths:\n",
    "    latitude = -73.9549\n",
    "    longitude = 40.769\n",
    "    for (district, path) in NTA_paths[0:1]:\n",
    "        if path.contains_point((longitude, latitude)):\n",
    "            print 'found district'\n",
    "            break\n",
    "print 'done'"
   ]
  },
  {
   "cell_type": "code",
   "execution_count": null,
   "metadata": {
    "collapsed": false,
    "deletable": true,
    "editable": true,
    "scrolled": true
   },
   "outputs": [],
   "source": [
    "start_time = time.time()\n",
    "districts = []\n",
    "\n",
    "for index, row in sample[0:50000].iterrows():\n",
    "    latitude = row['pickup_latitude']\n",
    "    longitude = row['pickup_longitude']\n",
    "    \n",
    "    loc = \"None\"\n",
    "    if (index % 1000 == 0):\n",
    "        print \"i = \", index\n",
    "    for (district, path) in NTA_paths:\n",
    "        if path.contains_point((longitude, latitude)):\n",
    "            loc = district\n",
    "            break\n",
    "    districts.append(loc)\n",
    "time_taken = time.time() - start_time\n",
    "print 'time taken: ', time_taken"
   ]
  },
  {
   "cell_type": "code",
   "execution_count": null,
   "metadata": {
    "collapsed": false,
    "deletable": true,
    "editable": true,
    "scrolled": false
   },
   "outputs": [],
   "source": [
    "sample[\"NTA\"] = districts\n",
    "sample[\"count\"] = 1"
   ]
  },
  {
   "cell_type": "code",
   "execution_count": null,
   "metadata": {
    "collapsed": false
   },
   "outputs": [],
   "source": [
    "sample['pickup_date'] = pd.DatetimeIndex(\n",
    "    sample['pickup_datetime'].apply(pd.to_datetime)).date"
   ]
  },
  {
   "cell_type": "code",
   "execution_count": null,
   "metadata": {
    "collapsed": false,
    "scrolled": true
   },
   "outputs": [],
   "source": [
    "sample_use = sample[['pickup_date', 'NTA', 'count']]\n",
    "sample_use.columns = ['pickup_date', 'nta_code', 'count']\n",
    "\n",
    "use = sample_use[[\"nta_code\", \"pickup_date\", \"count\"]].groupby(by=[\"nta_code\", \"pickup_date\"])\n",
    "final = use.sum()\n",
    "final.to_csv(\"2014_trips_by_NTA_days.csv\")\n",
    "\n",
    "use2 = sample_use[[\"nta_code\", \"pickup_date\", \"count\"]].groupby(by=[\"nta_code\"])\n",
    "final2 = use2.sum()\n",
    "final2.to_csv(\"2014_trips_by_NTA_year.csv\")"
   ]
  },
  {
   "cell_type": "code",
   "execution_count": null,
   "metadata": {
    "collapsed": false,
    "scrolled": true
   },
   "outputs": [],
   "source": [
    "sampleg = green_trips.sample(n=100000)\n",
    "sLength = len(sampleg['pickup_datetime'])\n",
    "sampleg['nta_code'] = Series(np.random.randn(sLength))\n",
    "\n",
    "start_time = time.time()\n",
    "districts = []\n",
    "\n",
    "for index, row in sampleg[0:100000].iterrows():\n",
    "    latitude = row['pickup_latitude']\n",
    "    longitude = row['pickup_longitude']\n",
    "    \n",
    "    loc = \"None\"\n",
    "    if (index % 1000 == 0):\n",
    "        print \"i = \", index\n",
    "    for (district, path) in NTA_paths:\n",
    "        if path.contains_point((longitude, latitude)):\n",
    "            loc = district\n",
    "            break\n",
    "    districts.append(loc)\n",
    "time_taken = time.time() - start_time\n",
    "print 'time taken: ', time_taken"
   ]
  },
  {
   "cell_type": "code",
   "execution_count": null,
   "metadata": {
    "collapsed": false
   },
   "outputs": [],
   "source": [
    "sampleg[\"NTA\"] = districts\n",
    "sampleg[\"count\"] = 1\n",
    "print \"districts done\"\n",
    "\n",
    "sampleg['pickup_date'] = pd.DatetimeIndex(\n",
    "    sampleg['pickup_datetime'].apply(pd.to_datetime)).date\n",
    "print \"datetime conversion done\""
   ]
  },
  {
   "cell_type": "code",
   "execution_count": null,
   "metadata": {
    "collapsed": true
   },
   "outputs": [],
   "source": [
    "sampleg_use = sampleg[['pickup_date', 'NTA', 'count']]\n",
    "sampleg_use.columns = ['pickup_date', 'nta_code', 'count']\n",
    "\n",
    "use = sampleg_use[[\"nta_code\", \"pickup_date\", \"count\"]].groupby(by=[\"nta_code\", \"pickup_date\"])\n",
    "final = use.sum()\n",
    "final.to_csv(\"green_trips_by_NTA_days.csv\")\n",
    "\n",
    "use2 = sampleg_use[[\"nta_code\", \"pickup_date\", \"count\"]].groupby(by=[\"nta_code\"])\n",
    "final2 = use2.sum()\n",
    "final2.to_csv(\"green_trips_by_NTA_year.csv\")"
   ]
  },
  {
   "cell_type": "code",
   "execution_count": null,
   "metadata": {
    "collapsed": false
   },
   "outputs": [],
   "source": [
    "yellow_trips_2014Q2 = pd.read_csv(\"yellow_trips_2014Q2.csv\", nrows=500000)\n",
    "yellow_trips_2014Q3 = pd.read_csv(\"yellow_trips_2014Q3.csv\", nrows=500000)\n",
    "yellow_trips_2015Q1 = pd.read_csv(\"yellow_trips_2015Q1.csv\", nrows=500000)\n",
    "yellow_trips_2015Q2 = pd.read_csv(\"yellow_trips_2015Q2.csv\", nrows=500000)"
   ]
  },
  {
   "cell_type": "code",
   "execution_count": null,
   "metadata": {
    "collapsed": false
   },
   "outputs": [],
   "source": [
    "sampley1 = yellow_trips_2014Q2.sample(n=25000)\n",
    "sampley2 = yellow_trips_2014Q3.sample(n=25000)\n",
    "sampley3 = yellow_trips_2015Q1.sample(n=25000)\n",
    "sampley4 = yellow_trips_2015Q2.sample(n=25000)\n",
    "\n",
    "sample2014 = pd.concat([sampley1, sampley2])\n",
    "sample2015 = pd.concat([sampley3, sampley4])\n",
    "\n",
    "#########################################################################################################\n",
    "\n",
    "def find_districts(sampleg, rows):\n",
    "    sLength = len(sampleg['pickup_datetime'])\n",
    "    sampleg['nta_code'] = Series(np.random.randn(sLength))\n",
    "\n",
    "    start_time = time.time()\n",
    "    districts = []\n",
    "\n",
    "    for index, row in sampleg[0:rows].iterrows():\n",
    "        latitude = row['pickup_latitude']\n",
    "        longitude = row['pickup_longitude']\n",
    "\n",
    "        loc = \"None\"\n",
    "        if (len(districts) % 1000 == 0):\n",
    "            print \"i = \", index\n",
    "        for (district, path) in NTA_paths:\n",
    "            if path.contains_point((longitude, latitude)):\n",
    "                loc = district\n",
    "                break\n",
    "        districts.append(loc)\n",
    "    time_taken = time.time() - start_time\n",
    "    print 'time taken: ', time_taken\n",
    "    return districts\n",
    "\n",
    "#########################################################################################################\n",
    "\n",
    "districts2014 = find_districts(sample2014, 50000)\n",
    "districts2015 = find_districts(sample2015, 50000)"
   ]
  },
  {
   "cell_type": "code",
   "execution_count": null,
   "metadata": {
    "collapsed": false
   },
   "outputs": [],
   "source": [
    "def insertDistricts(sample, districts):\n",
    "    sample[\"NTA\"] = districts\n",
    "    sample[\"count\"] = 1\n",
    "    print \"districts done\"\n",
    "\n",
    "    sample['pickup_date'] = pd.DatetimeIndex(\n",
    "        sample['pickup_datetime'].apply(pd.to_datetime)).date\n",
    "    print \"datetime conversion done\"\n",
    "    return sample"
   ]
  },
  {
   "cell_type": "code",
   "execution_count": null,
   "metadata": {
    "collapsed": false
   },
   "outputs": [],
   "source": [
    "sample2014 = insertDistricts(sample2014, districts2014)\n",
    "sample2015 = insertDistricts(sample2015, districts2015)"
   ]
  },
  {
   "cell_type": "code",
   "execution_count": null,
   "metadata": {
    "collapsed": false
   },
   "outputs": [],
   "source": [
    "def output_stuff(sample, filenames):\n",
    "    sample_use = sample[['pickup_date', 'NTA', 'count']]\n",
    "    sample_use.columns = ['pickup_date', 'nta_code', 'count']\n",
    "    use = sample_use[[\"nta_code\", \"pickup_date\", \"count\"]].groupby(by=[\"nta_code\", \"pickup_date\"])\n",
    "    final = use.sum()\n",
    "    final.to_csv(filenames[0])\n",
    "    \n",
    "    use2 = sampleg_use[[\"nta_code\", \"pickup_date\", \"count\"]].groupby(by=[\"nta_code\"])\n",
    "    final2 = use2.sum()\n",
    "    final2.to_csv(filenames[1])\n",
    "    return 42\n",
    "\n",
    "output_stuff(sample2014, [\"yellow_2014_by_days.csv\", \"yellow_2014_by_year.csv\"])\n",
    "output_stuff(sample2015, [\"yellow_2015_by_days.csv\", \"yellow_2015_by_year.csv\"])"
   ]
  },
  {
   "cell_type": "code",
   "execution_count": null,
   "metadata": {
    "collapsed": false
   },
   "outputs": [],
   "source": []
  },
  {
   "cell_type": "code",
   "execution_count": null,
   "metadata": {
    "collapsed": true
   },
   "outputs": [],
   "source": []
  }
 ],
 "metadata": {
  "kernelspec": {
   "display_name": "Python 2",
   "language": "python",
   "name": "python2"
  },
  "language_info": {
   "codemirror_mode": {
    "name": "ipython",
    "version": 2
   },
   "file_extension": ".py",
   "mimetype": "text/x-python",
   "name": "python",
   "nbconvert_exporter": "python",
   "pygments_lexer": "ipython2",
   "version": "2.7.13"
  }
 },
 "nbformat": 4,
 "nbformat_minor": 2
}
